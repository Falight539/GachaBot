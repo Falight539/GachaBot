{
 "cells": [
  {
   "cell_type": "code",
   "execution_count": 1,
   "metadata": {},
   "outputs": [],
   "source": [
    "from datetime import datetime\n",
    "import Gacha"
   ]
  },
  {
   "cell_type": "code",
   "execution_count": 2,
   "metadata": {},
   "outputs": [],
   "source": [
    "# uid 849906722\n",
    "# ltud 189088067\n",
    "# ltoken E4J5dEMG5CgdaIZxPXvXkB1uUNBSTrPj4CYBw99Y\n",
    "\n",
    "me = Gacha.planer(\n",
    "    uid=849906722,\n",
    "    ltuid=189088067, \n",
    "    ltoken=r\"3ZyH2yXlZvc9buGpDfGsrer6fIFDvTkKx2VwyiTC\",\n",
    "    authURL=r'https://webstatic-sea.hoyoverse.com/genshin/event/e20190909gacha-v2/index.html?win_mode=fullscreen&authkey_ver=1&sign_type=2&auth_appid=webview_gacha&init_type=301&gacha_id=568398dfa3d87056a8d1a5cf6296f3a5f652e5d0&timestamp=1695772432&lang=en&device_type=pc&game_version=OSRELWin4.1.0_R18501173_S18438893_D18497406&region=os_asia&authkey=p%2FXUbcAQ26DxHL4WwZ8weA48RYFQYfkAdfQYcNuwS0rfPN4qbnT3JsbneLvhnLjtwCmGXPzoGuon8TTsiSkoBlYEtNiX7xo9u1wkR3RDacH0vq5LbG%2FxvGkmHNM31VRs8mecZAuurWbqPYb1T1kRz8br%2Bl%2FqGqaRYitXPPJe3xUYKHK%2FuW8xSWpMkduwhU%2F0m87A4u7U90befOqcR9u6uxBL8Yq4zpT84a%2BCWIj1p%2FfG07GbVjvTC53F5XZFVPxbqU2umINwzo5CDocsM8U3ysaSCYvDmv%2F5RUXMfOYH5jQHz6OtM2s9Da%2FuyEobkMIr%2F37rU1x0CPshMpzJAvI5Ldi7YADt05HjMa9j6mzVWRPf9k3DSj%2FLtFYkeTp2MLvwF1Koog8UQZlUKWXbInKe1MJr6p434Sdy7nYVo6qW7rRR9Yyj%2FxFsd2lqhrCbijOuT%2BrH%2F%2BnRj7pikkgEA3w78y5ZRmBkuxTRYGEaOZc2iv7P6r3J8Q1DufPksmRJ9Sm0o5X7bOcu4i4tEjOHXX5lNbAojAq0SznsnfTlAlkYC%2FI4q5GyIwpYE30zhSeJrjLQKfS%2BF1UmoEVz31yZ7SNq6GBZp2734bZ9sWuBMmUEQ%2B0o3drCQxxff5b4QXxKZ1Ke1QzPisPc69JfSFTGnKmhvw2T7vAOCGIf8oyDAaKiXQ2ZRbWGezohdkFIpTLEESo9Ek9WxiumHm5UEecuEpVEQUaYIY83nNz7eDI8PoJCzNk3Ds7mMshzjf0gGCdk%2F%2BJ6eNT1frERBSkGmdBzli1hWbOUCmc6uroIb8C42odJ%2Fe%2BDLSjdsHIkswgILHYtuQhD9xQvx7KDKHIJk1hTtoCgSNmuRELCxj%2FNM4DFZFLhbfp5cBnZyHFa3MdA0WK5Y7CDtkA5h36XM9%2BMeX6MBS5ISqaosjver9JKigUpvhXwBeKrYmPwmKvB0gAY%2FYsOZMm0jbxvsBlkwjSrEU1Js4956wkI6OwHk2wGFdRLClJBPUqBIMJguZwpJt1SAW1PM8VFsNznOfz5zOvRfXdYGHv8NQS7EUzITiPGvHw24boIMYUMHqLDsps5R9DndwW1MQxKaO1Hi%2BBFg4owtyNPlYXBUEv9xvI64TQmCGeO8PRn2tMpt06O6p9dro3zLW1vrIDRa5%2B3e8h4MqaMkK8VyQRD71dxqyb57S9pSy5P9SGL4mktXJZ%2FQgxIdsRS%2BbJYghB92TFVF0kAWMXoJm4AF6UsJMSaNyY0mjoHNXsGxYigndaxIZ5HxSBEPxgMfGn2VlRpJHc2cXdm2EKsHeOW2J3acwOlEvHOyiA3BdKBeepPuwnE56klVI%2FwX1PEi4H%2Fce1JwSOxk5Au9oNyZHlWXpOSLg%3D%3D&game_biz='    \n",
    "    )"
   ]
  },
  {
   "cell_type": "code",
   "execution_count": 3,
   "metadata": {},
   "outputs": [
    {
     "data": {
      "text/plain": [
       "{'achievements': 521,\n",
       " 'active_days': 389,\n",
       " 'characters': 36,\n",
       " 'spiral_abyss': '11-3',\n",
       " 'anemoculi': 66,\n",
       " 'geoculi': 131,\n",
       " 'electroculi': 85,\n",
       " 'common_chests': 822,\n",
       " 'exquisite_chests': 848,\n",
       " 'precious_chests': 241,\n",
       " 'luxurious_chests': 88,\n",
       " 'unlocked_waypoints': 332,\n",
       " 'unlocked_domains': 43}"
      ]
     },
     "execution_count": 3,
     "metadata": {},
     "output_type": "execute_result"
    }
   ],
   "source": [
    "me.see_stat()"
   ]
  },
  {
   "cell_type": "code",
   "execution_count": 4,
   "metadata": {},
   "outputs": [
    {
     "data": {
      "text/plain": [
       "0"
      ]
     },
     "execution_count": 4,
     "metadata": {},
     "output_type": "execute_result"
    }
   ],
   "source": [
    "me.wished()"
   ]
  },
  {
   "cell_type": "code",
   "execution_count": null,
   "metadata": {},
   "outputs": [],
   "source": []
  },
  {
   "cell_type": "code",
   "execution_count": null,
   "metadata": {},
   "outputs": [],
   "source": []
  }
 ],
 "metadata": {
  "kernelspec": {
   "display_name": "algo",
   "language": "python",
   "name": "python3"
  },
  "language_info": {
   "codemirror_mode": {
    "name": "ipython",
    "version": 3
   },
   "file_extension": ".py",
   "mimetype": "text/x-python",
   "name": "python",
   "nbconvert_exporter": "python",
   "pygments_lexer": "ipython3",
   "version": "3.10.12"
  },
  "orig_nbformat": 4
 },
 "nbformat": 4,
 "nbformat_minor": 2
}
