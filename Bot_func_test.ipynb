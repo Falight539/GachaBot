{
 "cells": [
  {
   "cell_type": "code",
   "execution_count": 1,
   "metadata": {},
   "outputs": [],
   "source": [
    "from datetime import datetime\n",
    "import Gacha"
   ]
  },
  {
   "cell_type": "code",
   "execution_count": 2,
   "metadata": {},
   "outputs": [
    {
     "ename": "TypeError",
     "evalue": "planer.__init__() got multiple values for argument 'uid'",
     "output_type": "error",
     "traceback": [
      "\u001b[0;31m---------------------------------------------------------------------------\u001b[0m",
      "\u001b[0;31mTypeError\u001b[0m                                 Traceback (most recent call last)",
      "\u001b[1;32m/home/flight/Intro2algo/finalproj/Bot_func_test.ipynb Cell 2\u001b[0m line \u001b[0;36m5\n\u001b[1;32m      <a href='vscode-notebook-cell://wsl%2Bubuntu/home/flight/Intro2algo/finalproj/Bot_func_test.ipynb#W1sdnNjb2RlLXJlbW90ZQ%3D%3D?line=0'>1</a>\u001b[0m \u001b[39m# uid 849906722\u001b[39;00m\n\u001b[1;32m      <a href='vscode-notebook-cell://wsl%2Bubuntu/home/flight/Intro2algo/finalproj/Bot_func_test.ipynb#W1sdnNjb2RlLXJlbW90ZQ%3D%3D?line=1'>2</a>\u001b[0m \u001b[39m# ltud 189088067\u001b[39;00m\n\u001b[1;32m      <a href='vscode-notebook-cell://wsl%2Bubuntu/home/flight/Intro2algo/finalproj/Bot_func_test.ipynb#W1sdnNjb2RlLXJlbW90ZQ%3D%3D?line=2'>3</a>\u001b[0m \u001b[39m# ltoken E4J5dEMG5CgdaIZxPXvXkB1uUNBSTrPj4CYBw99Y\u001b[39;00m\n\u001b[0;32m----> <a href='vscode-notebook-cell://wsl%2Bubuntu/home/flight/Intro2algo/finalproj/Bot_func_test.ipynb#W1sdnNjb2RlLXJlbW90ZQ%3D%3D?line=4'>5</a>\u001b[0m me \u001b[39m=\u001b[39m Gacha\u001b[39m.\u001b[39;49mplaner(\n\u001b[1;32m      <a href='vscode-notebook-cell://wsl%2Bubuntu/home/flight/Intro2algo/finalproj/Bot_func_test.ipynb#W1sdnNjb2RlLXJlbW90ZQ%3D%3D?line=5'>6</a>\u001b[0m     datetime\u001b[39m.\u001b[39;49mnow(), \n\u001b[1;32m      <a href='vscode-notebook-cell://wsl%2Bubuntu/home/flight/Intro2algo/finalproj/Bot_func_test.ipynb#W1sdnNjb2RlLXJlbW90ZQ%3D%3D?line=6'>7</a>\u001b[0m     datetime\u001b[39m.\u001b[39;49mnow(), \n\u001b[1;32m      <a href='vscode-notebook-cell://wsl%2Bubuntu/home/flight/Intro2algo/finalproj/Bot_func_test.ipynb#W1sdnNjb2RlLXJlbW90ZQ%3D%3D?line=7'>8</a>\u001b[0m     uid\u001b[39m=\u001b[39;49m\u001b[39m849906722\u001b[39;49m,\n\u001b[1;32m      <a href='vscode-notebook-cell://wsl%2Bubuntu/home/flight/Intro2algo/finalproj/Bot_func_test.ipynb#W1sdnNjb2RlLXJlbW90ZQ%3D%3D?line=8'>9</a>\u001b[0m     ltuid\u001b[39m=\u001b[39;49m\u001b[39m189088067\u001b[39;49m, \n\u001b[1;32m     <a href='vscode-notebook-cell://wsl%2Bubuntu/home/flight/Intro2algo/finalproj/Bot_func_test.ipynb#W1sdnNjb2RlLXJlbW90ZQ%3D%3D?line=9'>10</a>\u001b[0m     ltoken\u001b[39m=\u001b[39;49m\u001b[39mr\u001b[39;49m\u001b[39m\"\u001b[39;49m\u001b[39mE4J5dEMG5CgdaIZxPXvXkB1uUNBSTrPj4CYBw99Y\u001b[39;49m\u001b[39m\"\u001b[39;49m,\n\u001b[1;32m     <a href='vscode-notebook-cell://wsl%2Bubuntu/home/flight/Intro2algo/finalproj/Bot_func_test.ipynb#W1sdnNjb2RlLXJlbW90ZQ%3D%3D?line=10'>11</a>\u001b[0m     authURL\u001b[39m=\u001b[39;49m\u001b[39mr\u001b[39;49m\u001b[39m'\u001b[39;49m\u001b[39mhttps://hk4e-api-os.hoyoverse.com/event/gacha_info/api/getGachaLog?win_mode=fullscreen&authkey_ver=1&sign_type=2&auth_appid=webview_gacha&init_type=301&gacha_id=ee2b5e9081c9ab6bd60ece9012867430ae9ec525&timestamp=1692144069&lang=en&device_type=mobile&game_version=OSRELiOS4.0.0_R17742988_S17600751_D17940433&plat_type=ios&region=os_asia&authkey=477Jy8Io31Ks5GfYsgpzmKIbnayv\u001b[39;49m\u001b[39m%\u001b[39;49m\u001b[39m2BO1zmwErUco\u001b[39;49m\u001b[39m%2F\u001b[39;49;00m\u001b[39m4y9WfQ6tJuzaswY6KK1\u001b[39;49m\u001b[39m%\u001b[39;49m\u001b[39m2B1a\u001b[39;49m\u001b[39m%\u001b[39;49m\u001b[39m2Bxn\u001b[39;49m\u001b[39m%\u001b[39;49m\u001b[39m2B\u001b[39;49m\u001b[39m%\u001b[39;49m\u001b[39m2BbXtSwiJsj4U3Yar4S7elnclXj8UbpEE0\u001b[39;49m\u001b[39m%2F\u001b[39;49;00m\u001b[39mK6FF3j\u001b[39;49m\u001b[39m%\u001b[39;49m\u001b[39m2BnxAAUctlXjmejdoGGLXSvvxYN2lAKaO0PYZfOp0rU\u001b[39;49m\u001b[39m%2F\u001b[39;49;00m\u001b[39mmIG4GKHIoEf7IgqdFnTLaE9dJCkTFDUriKzUcgkvDOzXQubvPZJzO59gny3\u001b[39;49m\u001b[39m%\u001b[39;49m\u001b[39m2BFtWXIt2RBYFKbgAvorjj7Gg7NIBIVCzJWg1JT6o6\u001b[39;49m\u001b[39m%\u001b[39;49m\u001b[39m2BrYlNck9ZAz3BYZCpREgvPeAJ2l4p4pAB4oLH\u001b[39;49m\u001b[39m%\u001b[39;49m\u001b[39m2BZKhGY0xBEDKHRXzTHx\u001b[39;49m\u001b[39m%2F\u001b[39;49;00m\u001b[39mR3jQGuMR2QitwuKaDH9mW\u001b[39;49m\u001b[39m%2F\u001b[39;49;00m\u001b[39mANTyK4MGWwlbdKMwjF6WCdi3R9kywWJudGwi\u001b[39;49m\u001b[39m%2F\u001b[39;49;00m\u001b[39m0P4u9hMM8xgGgg1otmSeg\u001b[39;49m\u001b[39m%\u001b[39;49m\u001b[39m2BXrnzOE\u001b[39;49m\u001b[39m%\u001b[39;49m\u001b[39m2BBUIGAUudpwgbkJxALt\u001b[39;49m\u001b[39m%\u001b[39;49m\u001b[39m2BTVqjbyq0K\u001b[39;49m\u001b[39m%2F\u001b[39;49;00m\u001b[39mBspfxYewbMavfhUjtg5ojt9C3cBOg1XJxYoYAxHU1Nsnj8mo3TX2rZoyAwtk1qFaezrTASFdePohQywYwcohVp\u001b[39;49m\u001b[39m%2F\u001b[39;49;00m\u001b[39mz7ZUxxAIfCoqDo73\u001b[39;49m\u001b[39m%2F\u001b[39;49;00m\u001b[39mSOqG22MAZmjT5kvzXqtNpQ7yS\u001b[39;49m\u001b[39m%\u001b[39;49m\u001b[39m2BR2YDG95jujjL5Hgyu6m4pKQTLvRRhgMn0N2xByepH77N\u001b[39;49m\u001b[39m%\u001b[39;49m\u001b[39m2BN8bWJDW35zETcgdVZxHg2aZaWThAuuYdd96C76sk4ZanpG2WlQPNbgScllvvdu3qW8ooMMX\u001b[39;49m\u001b[39m%2F\u001b[39;49;00m\u001b[39mJbvmjjrunl5JRf7lTk0jdgVSximKT3qNwAcQ0w4\u001b[39;49m\u001b[39m%\u001b[39;49m\u001b[39m2BYmnUXbDdIQ9GhK6Ezkhf1fk7YIzlFk4g19CBddbaEUvIF6WpP6G20jlA1K9rFwrLs39CD69R8fJ1R3pufUNugUfuZbqf5vEvR7KFPQ52fB\u001b[39;49m\u001b[39m%\u001b[39;49m\u001b[39m2BHcvhU39odbeeR0GKzjd8w3ituFRYeAJh6IqkOZSAG\u001b[39;49m\u001b[39m%\u001b[39;49m\u001b[39m2BIWjvNfaTdD6WJKyoQrJp\u001b[39;49m\u001b[39m%\u001b[39;49m\u001b[39m2BmWCn0AR4n98nKjPQ7mME44zUSkVqgXPtK8aoEWYjqXXmxw4\u001b[39;49m\u001b[39m%2F\u001b[39;49;00m\u001b[39m71\u001b[39;49m\u001b[39m%\u001b[39;49m\u001b[39m2BGDLnK18LraXODc1w74aJJMSSIHtmX06\u001b[39;49m\u001b[39m%2F\u001b[39;49;00m\u001b[39mC0V2ECl3zJKM\u001b[39;49m\u001b[39m%2F\u001b[39;49;00m\u001b[39mUgbn9NlHL\u001b[39;49m\u001b[39m%2F\u001b[39;49;00m\u001b[39m9oQh3RVVOq\u001b[39;49m\u001b[39m%2F\u001b[39;49;00m\u001b[39mjVybWC6qgJBWumvlgzaWmhK1Mbc&game_biz=hk4e_global&gacha_type=301&page=1&size=5&end_id=0\u001b[39;49m\u001b[39m'\u001b[39;49m\n\u001b[1;32m     <a href='vscode-notebook-cell://wsl%2Bubuntu/home/flight/Intro2algo/finalproj/Bot_func_test.ipynb#W1sdnNjb2RlLXJlbW90ZQ%3D%3D?line=11'>12</a>\u001b[0m     )\n",
      "\u001b[0;31mTypeError\u001b[0m: planer.__init__() got multiple values for argument 'uid'"
     ]
    }
   ],
   "source": [
    "# uid 849906722\n",
    "# ltud 189088067\n",
    "# ltoken E4J5dEMG5CgdaIZxPXvXkB1uUNBSTrPj4CYBw99Y\n",
    "\n",
    "me = Gacha.planer(\n",
    "    uid=849906722,\n",
    "    ltuid=189088067, \n",
    "    ltoken=r\"E4J5dEMG5CgdaIZxPXvXkB1uUNBSTrPj4CYBw99Y\",\n",
    "    authURL=r'https://hk4e-api-os.hoyoverse.com/event/gacha_info/api/getGachaLog?win_mode=fullscreen&authkey_ver=1&sign_type=2&auth_appid=webview_gacha&init_type=301&gacha_id=ee2b5e9081c9ab6bd60ece9012867430ae9ec525&timestamp=1692144069&lang=en&device_type=mobile&game_version=OSRELiOS4.0.0_R17742988_S17600751_D17940433&plat_type=ios&region=os_asia&authkey=477Jy8Io31Ks5GfYsgpzmKIbnayv%2BO1zmwErUco%2F4y9WfQ6tJuzaswY6KK1%2B1a%2Bxn%2B%2BbXtSwiJsj4U3Yar4S7elnclXj8UbpEE0%2FK6FF3j%2BnxAAUctlXjmejdoGGLXSvvxYN2lAKaO0PYZfOp0rU%2FmIG4GKHIoEf7IgqdFnTLaE9dJCkTFDUriKzUcgkvDOzXQubvPZJzO59gny3%2BFtWXIt2RBYFKbgAvorjj7Gg7NIBIVCzJWg1JT6o6%2BrYlNck9ZAz3BYZCpREgvPeAJ2l4p4pAB4oLH%2BZKhGY0xBEDKHRXzTHx%2FR3jQGuMR2QitwuKaDH9mW%2FANTyK4MGWwlbdKMwjF6WCdi3R9kywWJudGwi%2F0P4u9hMM8xgGgg1otmSeg%2BXrnzOE%2BBUIGAUudpwgbkJxALt%2BTVqjbyq0K%2FBspfxYewbMavfhUjtg5ojt9C3cBOg1XJxYoYAxHU1Nsnj8mo3TX2rZoyAwtk1qFaezrTASFdePohQywYwcohVp%2Fz7ZUxxAIfCoqDo73%2FSOqG22MAZmjT5kvzXqtNpQ7yS%2BR2YDG95jujjL5Hgyu6m4pKQTLvRRhgMn0N2xByepH77N%2BN8bWJDW35zETcgdVZxHg2aZaWThAuuYdd96C76sk4ZanpG2WlQPNbgScllvvdu3qW8ooMMX%2FJbvmjjrunl5JRf7lTk0jdgVSximKT3qNwAcQ0w4%2BYmnUXbDdIQ9GhK6Ezkhf1fk7YIzlFk4g19CBddbaEUvIF6WpP6G20jlA1K9rFwrLs39CD69R8fJ1R3pufUNugUfuZbqf5vEvR7KFPQ52fB%2BHcvhU39odbeeR0GKzjd8w3ituFRYeAJh6IqkOZSAG%2BIWjvNfaTdD6WJKyoQrJp%2BmWCn0AR4n98nKjPQ7mME44zUSkVqgXPtK8aoEWYjqXXmxw4%2F71%2BGDLnK18LraXODc1w74aJJMSSIHtmX06%2FC0V2ECl3zJKM%2FUgbn9NlHL%2F9oQh3RVVOq%2FjVybWC6qgJBWumvlgzaWmhK1Mbc&game_biz=hk4e_global&gacha_type=301&page=1&size=5&end_id=0'\n",
    "    )"
   ]
  },
  {
   "cell_type": "code",
   "execution_count": 3,
   "metadata": {},
   "outputs": [
    {
     "data": {
      "text/plain": [
       "{'achievements': 482,\n",
       " 'active_days': 375,\n",
       " 'characters': 34,\n",
       " 'spiral_abyss': '11-1',\n",
       " 'anemoculi': 66,\n",
       " 'geoculi': 131,\n",
       " 'electroculi': 85,\n",
       " 'common_chests': 774,\n",
       " 'exquisite_chests': 766,\n",
       " 'precious_chests': 216,\n",
       " 'luxurious_chests': 78,\n",
       " 'unlocked_waypoints': 307,\n",
       " 'unlocked_domains': 43}"
      ]
     },
     "execution_count": 3,
     "metadata": {},
     "output_type": "execute_result"
    }
   ],
   "source": [
    "me.see_stat()"
   ]
  },
  {
   "cell_type": "code",
   "execution_count": 4,
   "metadata": {},
   "outputs": [
    {
     "name": "stdout",
     "output_type": "stream",
     "text": [
      "0 {'type': 'Weapon', 'name': 'Magic Guide', 'rarity': 3, 'time': '2023-09-05 19:07:10', 'id': 1693911960000976522, 'banner': 'Character Event Wish', 'banner_type': 400, 'uid': 849906722}\n",
      "1 {'type': 'Weapon', 'name': 'Magic Guide', 'rarity': 3, 'time': '2023-09-05 19:07:10', 'id': 1693911960000976422, 'banner': 'Character Event Wish', 'banner_type': 400, 'uid': 849906722}\n",
      "2 {'type': 'Weapon', 'name': \"Sharpshooter's Oath\", 'rarity': 3, 'time': '2023-09-05 19:07:10', 'id': 1693911960000976322, 'banner': 'Character Event Wish', 'banner_type': 400, 'uid': 849906722}\n",
      "3 {'type': 'Weapon', 'name': 'Cool Steel', 'rarity': 3, 'time': '2023-09-05 19:07:10', 'id': 1693911960000976222, 'banner': 'Character Event Wish', 'banner_type': 400, 'uid': 849906722}\n",
      "4 {'type': 'Weapon', 'name': 'Skyrider Sword', 'rarity': 3, 'time': '2023-09-05 19:07:10', 'id': 1693911960000976122, 'banner': 'Character Event Wish', 'banner_type': 400, 'uid': 849906722}\n",
      "5 {'type': 'Character', 'name': 'Noelle', 'rarity': 4, 'time': '2023-09-05 19:07:10', 'id': 1693911960000976022, 'banner': 'Character Event Wish', 'banner_type': 400, 'uid': 849906722}\n",
      "6 {'type': 'Weapon', 'name': 'Debate Club', 'rarity': 3, 'time': '2023-09-05 19:07:10', 'id': 1693911960000975922, 'banner': 'Character Event Wish', 'banner_type': 400, 'uid': 849906722}\n",
      "7 {'type': 'Weapon', 'name': 'Debate Club', 'rarity': 3, 'time': '2023-09-05 19:07:10', 'id': 1693911960000975822, 'banner': 'Character Event Wish', 'banner_type': 400, 'uid': 849906722}\n",
      "8 {'type': 'Weapon', 'name': 'Thrilling Tales of Dragon Slayers', 'rarity': 3, 'time': '2023-09-05 19:07:10', 'id': 1693911960000975722, 'banner': 'Character Event Wish', 'banner_type': 400, 'uid': 849906722}\n",
      "9 {'type': 'Weapon', 'name': 'Thrilling Tales of Dragon Slayers', 'rarity': 3, 'time': '2023-09-05 19:07:10', 'id': 1693911960000975622, 'banner': 'Character Event Wish', 'banner_type': 400, 'uid': 849906722}\n",
      "10 {'type': 'Weapon', 'name': \"Sharpshooter's Oath\", 'rarity': 3, 'time': '2023-09-05 19:06:48', 'id': 1693911960000925622, 'banner': 'Character Event Wish', 'banner_type': 400, 'uid': 849906722}\n",
      "11 {'type': 'Weapon', 'name': \"Sharpshooter's Oath\", 'rarity': 3, 'time': '2023-09-05 19:06:48', 'id': 1693911960000925522, 'banner': 'Character Event Wish', 'banner_type': 400, 'uid': 849906722}\n",
      "12 {'type': 'Weapon', 'name': 'Ferrous Shadow', 'rarity': 3, 'time': '2023-09-05 19:06:48', 'id': 1693911960000925422, 'banner': 'Character Event Wish', 'banner_type': 400, 'uid': 849906722}\n",
      "13 {'type': 'Weapon', 'name': 'Sacrificial Fragments', 'rarity': 4, 'time': '2023-09-05 19:06:48', 'id': 1693911960000925322, 'banner': 'Character Event Wish', 'banner_type': 400, 'uid': 849906722}\n",
      "14 {'type': 'Weapon', 'name': 'Raven Bow', 'rarity': 3, 'time': '2023-09-05 19:06:48', 'id': 1693911960000925222, 'banner': 'Character Event Wish', 'banner_type': 400, 'uid': 849906722}\n",
      "15 {'type': 'Weapon', 'name': 'Bloodtainted Greatsword', 'rarity': 3, 'time': '2023-09-05 19:06:48', 'id': 1693911960000925122, 'banner': 'Character Event Wish', 'banner_type': 400, 'uid': 849906722}\n",
      "16 {'type': 'Weapon', 'name': 'Cool Steel', 'rarity': 3, 'time': '2023-09-05 19:06:48', 'id': 1693911960000925022, 'banner': 'Character Event Wish', 'banner_type': 400, 'uid': 849906722}\n",
      "17 {'type': 'Weapon', 'name': \"Sharpshooter's Oath\", 'rarity': 3, 'time': '2023-09-05 19:06:48', 'id': 1693911960000924922, 'banner': 'Character Event Wish', 'banner_type': 400, 'uid': 849906722}\n",
      "18 {'type': 'Weapon', 'name': 'Harbinger of Dawn', 'rarity': 3, 'time': '2023-09-05 19:06:48', 'id': 1693911960000924822, 'banner': 'Character Event Wish', 'banner_type': 400, 'uid': 849906722}\n",
      "19 {'type': 'Weapon', 'name': 'Bloodtainted Greatsword', 'rarity': 3, 'time': '2023-09-05 19:06:48', 'id': 1693911960000924722, 'banner': 'Character Event Wish', 'banner_type': 400, 'uid': 849906722}\n",
      "20 {'type': 'Weapon', 'name': 'Debate Club', 'rarity': 3, 'time': '2023-08-16 12:01:33', 'id': 1692158760000166522, 'banner': 'Character Event Wish', 'banner_type': 301, 'uid': 849906722}\n",
      "21 {'type': 'Weapon', 'name': 'Debate Club', 'rarity': 3, 'time': '2023-08-16 11:59:21', 'id': 1692155160009637522, 'banner': 'Character Event Wish', 'banner_type': 301, 'uid': 849906722}\n",
      "22 {'type': 'Character', 'name': 'Lynette', 'rarity': 4, 'time': '2023-08-16 11:59:21', 'id': 1692155160009637422, 'banner': 'Character Event Wish', 'banner_type': 301, 'uid': 849906722}\n",
      "23 {'type': 'Weapon', 'name': 'Ferrous Shadow', 'rarity': 3, 'time': '2023-08-16 11:59:21', 'id': 1692155160009637322, 'banner': 'Character Event Wish', 'banner_type': 301, 'uid': 849906722}\n",
      "24 {'type': 'Weapon', 'name': 'Harbinger of Dawn', 'rarity': 3, 'time': '2023-08-16 11:59:21', 'id': 1692155160009637222, 'banner': 'Character Event Wish', 'banner_type': 301, 'uid': 849906722}\n",
      "25 {'type': 'Weapon', 'name': 'Black Tassel', 'rarity': 3, 'time': '2023-08-16 11:59:21', 'id': 1692155160009637122, 'banner': 'Character Event Wish', 'banner_type': 301, 'uid': 849906722}\n",
      "26 {'type': 'Weapon', 'name': 'Debate Club', 'rarity': 3, 'time': '2023-08-16 11:59:21', 'id': 1692155160009637022, 'banner': 'Character Event Wish', 'banner_type': 301, 'uid': 849906722}\n",
      "27 {'type': 'Weapon', 'name': 'Thrilling Tales of Dragon Slayers', 'rarity': 3, 'time': '2023-08-16 11:59:21', 'id': 1692155160009636922, 'banner': 'Character Event Wish', 'banner_type': 301, 'uid': 849906722}\n",
      "28 {'type': 'Weapon', 'name': 'Thrilling Tales of Dragon Slayers', 'rarity': 3, 'time': '2023-08-16 11:59:21', 'id': 1692155160009636822, 'banner': 'Character Event Wish', 'banner_type': 301, 'uid': 849906722}\n",
      "29 {'type': 'Weapon', 'name': 'Bloodtainted Greatsword', 'rarity': 3, 'time': '2023-08-16 11:59:21', 'id': 1692155160009636722, 'banner': 'Character Event Wish', 'banner_type': 301, 'uid': 849906722}\n",
      "30 {'type': 'Weapon', 'name': 'Emerald Orb', 'rarity': 3, 'time': '2023-08-16 11:59:21', 'id': 1692155160009636622, 'banner': 'Character Event Wish', 'banner_type': 301, 'uid': 849906722}\n",
      "31 {'type': 'Weapon', 'name': 'Sacrificial Fragments', 'rarity': 4, 'time': '2023-06-22 17:43:52', 'id': 1687424760000171122, 'banner': 'Character Event Wish', 'banner_type': 301, 'uid': 849906722}\n",
      "32 {'type': 'Weapon', 'name': 'Skyrider Sword', 'rarity': 3, 'time': '2023-06-22 17:43:52', 'id': 1687424760000171022, 'banner': 'Character Event Wish', 'banner_type': 301, 'uid': 849906722}\n",
      "33 {'type': 'Weapon', 'name': 'Black Tassel', 'rarity': 3, 'time': '2023-06-22 17:43:52', 'id': 1687424760000170922, 'banner': 'Character Event Wish', 'banner_type': 301, 'uid': 849906722}\n",
      "34 {'type': 'Weapon', 'name': 'Harbinger of Dawn', 'rarity': 3, 'time': '2023-06-22 17:43:52', 'id': 1687424760000170822, 'banner': 'Character Event Wish', 'banner_type': 301, 'uid': 849906722}\n",
      "35 {'type': 'Weapon', 'name': 'Ferrous Shadow', 'rarity': 3, 'time': '2023-06-22 17:43:52', 'id': 1687424760000170722, 'banner': 'Character Event Wish', 'banner_type': 301, 'uid': 849906722}\n",
      "36 {'type': 'Weapon', 'name': 'Slingshot', 'rarity': 3, 'time': '2023-06-22 17:43:52', 'id': 1687424760000170622, 'banner': 'Character Event Wish', 'banner_type': 301, 'uid': 849906722}\n",
      "37 {'type': 'Weapon', 'name': 'Bloodtainted Greatsword', 'rarity': 3, 'time': '2023-06-22 17:43:52', 'id': 1687424760000170522, 'banner': 'Character Event Wish', 'banner_type': 301, 'uid': 849906722}\n",
      "38 {'type': 'Weapon', 'name': 'Debate Club', 'rarity': 3, 'time': '2023-06-22 17:43:52', 'id': 1687424760000170422, 'banner': 'Character Event Wish', 'banner_type': 301, 'uid': 849906722}\n",
      "39 {'type': 'Weapon', 'name': 'Raven Bow', 'rarity': 3, 'time': '2023-06-22 17:43:52', 'id': 1687424760000170322, 'banner': 'Character Event Wish', 'banner_type': 301, 'uid': 849906722}\n",
      "40 {'type': 'Weapon', 'name': 'Emerald Orb', 'rarity': 3, 'time': '2023-06-22 17:43:52', 'id': 1687424760000170222, 'banner': 'Character Event Wish', 'banner_type': 301, 'uid': 849906722}\n",
      "41 {'type': 'Character', 'name': 'Sucrose', 'rarity': 4, 'time': '2023-04-01 11:22:01', 'id': 1680318360000520322, 'banner': 'Character Event Wish', 'banner_type': 301, 'uid': 849906722}\n",
      "42 {'type': 'Weapon', 'name': 'Black Tassel', 'rarity': 3, 'time': '2023-04-01 11:22:01', 'id': 1680318360000520222, 'banner': 'Character Event Wish', 'banner_type': 301, 'uid': 849906722}\n",
      "43 {'type': 'Weapon', 'name': 'Magic Guide', 'rarity': 3, 'time': '2023-04-01 11:22:01', 'id': 1680318360000520122, 'banner': 'Character Event Wish', 'banner_type': 301, 'uid': 849906722}\n",
      "44 {'type': 'Weapon', 'name': 'Raven Bow', 'rarity': 3, 'time': '2023-04-01 11:22:01', 'id': 1680318360000520022, 'banner': 'Character Event Wish', 'banner_type': 301, 'uid': 849906722}\n",
      "45 {'type': 'Weapon', 'name': 'Debate Club', 'rarity': 3, 'time': '2023-04-01 11:22:01', 'id': 1680318360000519922, 'banner': 'Character Event Wish', 'banner_type': 301, 'uid': 849906722}\n",
      "46 {'type': 'Weapon', 'name': 'Emerald Orb', 'rarity': 3, 'time': '2023-04-01 11:22:01', 'id': 1680318360000519822, 'banner': 'Character Event Wish', 'banner_type': 301, 'uid': 849906722}\n",
      "47 {'type': 'Weapon', 'name': 'Bloodtainted Greatsword', 'rarity': 3, 'time': '2023-04-01 11:22:01', 'id': 1680318360000519722, 'banner': 'Character Event Wish', 'banner_type': 301, 'uid': 849906722}\n",
      "48 {'type': 'Weapon', 'name': 'Magic Guide', 'rarity': 3, 'time': '2023-04-01 11:22:01', 'id': 1680318360000519622, 'banner': 'Character Event Wish', 'banner_type': 301, 'uid': 849906722}\n",
      "49 {'type': 'Weapon', 'name': 'Skyrider Sword', 'rarity': 3, 'time': '2023-04-01 11:22:01', 'id': 1680318360000519522, 'banner': 'Character Event Wish', 'banner_type': 301, 'uid': 849906722}\n",
      "50 {'type': 'Character', 'name': 'Diona', 'rarity': 4, 'time': '2023-04-01 11:22:01', 'id': 1680318360000519422, 'banner': 'Character Event Wish', 'banner_type': 301, 'uid': 849906722}\n",
      "51 {'type': 'Weapon', 'name': 'Bloodtainted Greatsword', 'rarity': 3, 'time': '2023-04-01 11:21:09', 'id': 1680318360000498322, 'banner': 'Character Event Wish', 'banner_type': 301, 'uid': 849906722}\n",
      "52 {'type': 'Weapon', 'name': 'Bloodtainted Greatsword', 'rarity': 3, 'time': '2023-04-01 11:21:09', 'id': 1680318360000498222, 'banner': 'Character Event Wish', 'banner_type': 301, 'uid': 849906722}\n",
      "53 {'type': 'Weapon', 'name': 'Magic Guide', 'rarity': 3, 'time': '2023-04-01 11:21:09', 'id': 1680318360000498122, 'banner': 'Character Event Wish', 'banner_type': 301, 'uid': 849906722}\n",
      "54 {'type': 'Weapon', 'name': 'Thrilling Tales of Dragon Slayers', 'rarity': 3, 'time': '2023-04-01 11:21:09', 'id': 1680318360000498022, 'banner': 'Character Event Wish', 'banner_type': 301, 'uid': 849906722}\n",
      "55 {'type': 'Weapon', 'name': 'Thrilling Tales of Dragon Slayers', 'rarity': 3, 'time': '2023-04-01 11:21:09', 'id': 1680318360000497922, 'banner': 'Character Event Wish', 'banner_type': 301, 'uid': 849906722}\n",
      "56 {'type': 'Weapon', 'name': 'Bloodtainted Greatsword', 'rarity': 3, 'time': '2023-04-01 11:21:09', 'id': 1680318360000497822, 'banner': 'Character Event Wish', 'banner_type': 301, 'uid': 849906722}\n",
      "57 {'type': 'Weapon', 'name': 'Magic Guide', 'rarity': 3, 'time': '2023-04-01 11:21:09', 'id': 1680318360000497722, 'banner': 'Character Event Wish', 'banner_type': 301, 'uid': 849906722}\n",
      "58 {'type': 'Weapon', 'name': 'Magic Guide', 'rarity': 3, 'time': '2023-04-01 11:21:09', 'id': 1680318360000497622, 'banner': 'Character Event Wish', 'banner_type': 301, 'uid': 849906722}\n",
      "59 {'type': 'Weapon', 'name': 'Emerald Orb', 'rarity': 3, 'time': '2023-04-01 11:21:09', 'id': 1680318360000497522, 'banner': 'Character Event Wish', 'banner_type': 301, 'uid': 849906722}\n",
      "60 {'type': 'Character', 'name': 'Diona', 'rarity': 4, 'time': '2023-04-01 11:21:09', 'id': 1680318360000497422, 'banner': 'Character Event Wish', 'banner_type': 301, 'uid': 849906722}\n"
     ]
    }
   ],
   "source": [
    "me.wished()"
   ]
  },
  {
   "cell_type": "code",
   "execution_count": 5,
   "metadata": {},
   "outputs": [
    {
     "ename": "HTTPError",
     "evalue": "404 Client Error: Not Found for url: https://hk4e-api-os.hoyoverse.com/ysulog/api/getPrimogemLog?authkey_ver=1&lang=en&authkey=477Jy8Io31Ks5GfYsgpzmKIbnayv%2BO1zmwErUco%2F4y9WfQ6tJuzaswY6KK1%2B1a%2Bxn%2B%2BbXtSwiJsj4U3Yar4S7elnclXj8UbpEE0%2FK6FF3j%2BnxAAUctlXjmejdoGGLXSvvxYN2lAKaO0PYZfOp0rU%2FmIG4GKHIoEf7IgqdFnTLaE9dJCkTFDUriKzUcgkvDOzXQubvPZJzO59gny3%2BFtWXIt2RBYFKbgAvorjj7Gg7NIBIVCzJWg1JT6o6%2BrYlNck9ZAz3BYZCpREgvPeAJ2l4p4pAB4oLH%2BZKhGY0xBEDKHRXzTHx%2FR3jQGuMR2QitwuKaDH9mW%2FANTyK4MGWwlbdKMwjF6WCdi3R9kywWJudGwi%2F0P4u9hMM8xgGgg1otmSeg%2BXrnzOE%2BBUIGAUudpwgbkJxALt%2BTVqjbyq0K%2FBspfxYewbMavfhUjtg5ojt9C3cBOg1XJxYoYAxHU1Nsnj8mo3TX2rZoyAwtk1qFaezrTASFdePohQywYwcohVp%2Fz7ZUxxAIfCoqDo73%2FSOqG22MAZmjT5kvzXqtNpQ7yS%2BR2YDG95jujjL5Hgyu6m4pKQTLvRRhgMn0N2xByepH77N%2BN8bWJDW35zETcgdVZxHg2aZaWThAuuYdd96C76sk4ZanpG2WlQPNbgScllvvdu3qW8ooMMX%2FJbvmjjrunl5JRf7lTk0jdgVSximKT3qNwAcQ0w4%2BYmnUXbDdIQ9GhK6Ezkhf1fk7YIzlFk4g19CBddbaEUvIF6WpP6G20jlA1K9rFwrLs39CD69R8fJ1R3pufUNugUfuZbqf5vEvR7KFPQ52fB%2BHcvhU39odbeeR0GKzjd8w3ituFRYeAJh6IqkOZSAG%2BIWjvNfaTdD6WJKyoQrJp%2BmWCn0AR4n98nKjPQ7mME44zUSkVqgXPtK8aoEWYjqXXmxw4%2F71%2BGDLnK18LraXODc1w74aJJMSSIHtmX06%2FC0V2ECl3zJKM%2FUgbn9NlHL%2F9oQh3RVVOq%2FjVybWC6qgJBWumvlgzaWmhK1Mbc&sign_type=2&size=20&end_id=0",
     "output_type": "error",
     "traceback": [
      "\u001b[0;31m---------------------------------------------------------------------------\u001b[0m",
      "\u001b[0;31mHTTPError\u001b[0m                                 Traceback (most recent call last)",
      "\u001b[1;32m/home/flight/Intro2algo/finalproj/Bot_func_test.ipynb Cell 5\u001b[0m line \u001b[0;36m1\n\u001b[0;32m----> <a href='vscode-notebook-cell://wsl%2Bubuntu/home/flight/Intro2algo/finalproj/Bot_func_test.ipynb#W4sdnNjb2RlLXJlbW90ZQ%3D%3D?line=0'>1</a>\u001b[0m me\u001b[39m.\u001b[39;49mfree_primo()\n",
      "File \u001b[0;32m~/Intro2algo/finalproj/Gacha.py:36\u001b[0m, in \u001b[0;36mplaner.free_primo\u001b[0;34m(self)\u001b[0m\n\u001b[1;32m     34\u001b[0m \u001b[39mdef\u001b[39;00m \u001b[39mfree_primo\u001b[39m(\u001b[39mself\u001b[39m):\n\u001b[1;32m     35\u001b[0m     log \u001b[39m=\u001b[39m gs\u001b[39m.\u001b[39mget_primogem_log()\n\u001b[0;32m---> 36\u001b[0m     \u001b[39mfor\u001b[39;00m i \u001b[39min\u001b[39;00m log:\n\u001b[1;32m     37\u001b[0m         \u001b[39mprint\u001b[39m(i)\n",
      "File \u001b[0;32m~/Intro2algo/algo/lib/python3.10/site-packages/genshinstats/transactions.py:69\u001b[0m, in \u001b[0;36m_get_transactions\u001b[0;34m(endpoint, size, authkey, lang, end_id)\u001b[0m\n\u001b[1;32m     66\u001b[0m size \u001b[39m=\u001b[39m size \u001b[39mor\u001b[39;00m sys\u001b[39m.\u001b[39mmaxsize\n\u001b[1;32m     68\u001b[0m \u001b[39mwhile\u001b[39;00m \u001b[39mTrue\u001b[39;00m:\n\u001b[0;32m---> 69\u001b[0m     data \u001b[39m=\u001b[39m fetch_transaction_endpoint(\n\u001b[1;32m     70\u001b[0m         endpoint, authkey\u001b[39m=\u001b[39;49mauthkey, params\u001b[39m=\u001b[39;49m\u001b[39mdict\u001b[39;49m(size\u001b[39m=\u001b[39;49m\u001b[39mmin\u001b[39;49m(page_size, size), end_id\u001b[39m=\u001b[39;49mend_id)\n\u001b[1;32m     71\u001b[0m     )[\u001b[39m\"\u001b[39m\u001b[39mlist\u001b[39m\u001b[39m\"\u001b[39m]\n\u001b[1;32m     72\u001b[0m     data \u001b[39m=\u001b[39m prettify_trans(data, _get_reasons(lang))\n\u001b[1;32m     73\u001b[0m     \u001b[39myield from\u001b[39;00m data\n",
      "File \u001b[0;32m~/Intro2algo/algo/lib/python3.10/site-packages/genshinstats/transactions.py:40\u001b[0m, in \u001b[0;36mfetch_transaction_endpoint\u001b[0;34m(endpoint, authkey, **kwargs)\u001b[0m\n\u001b[1;32m     33\u001b[0m \u001b[39m\u001b[39m\u001b[39m\"\"\"Fetch an enpoint from mihoyo's transaction logs api.\u001b[39;00m\n\u001b[1;32m     34\u001b[0m \n\u001b[1;32m     35\u001b[0m \u001b[39mTakes in an endpoint url which is joined with the base url.\u001b[39;00m\n\u001b[1;32m     36\u001b[0m \u001b[39mIf an authkey is provided, it uses that authkey specifically.\u001b[39;00m\n\u001b[1;32m     37\u001b[0m \u001b[39mA request is then sent and returns a parsed response.\u001b[39;00m\n\u001b[1;32m     38\u001b[0m \u001b[39m\"\"\"\u001b[39;00m\n\u001b[1;32m     39\u001b[0m url \u001b[39m=\u001b[39m urljoin(YSULOG_URL, endpoint)\n\u001b[0;32m---> 40\u001b[0m \u001b[39mreturn\u001b[39;00m fetch_gacha_endpoint(url, authkey, \u001b[39m*\u001b[39;49m\u001b[39m*\u001b[39;49mkwargs)\n",
      "File \u001b[0;32m~/Intro2algo/algo/lib/python3.10/site-packages/genshinstats/wishes.py:142\u001b[0m, in \u001b[0;36mfetch_gacha_endpoint\u001b[0;34m(endpoint, authkey, **kwargs)\u001b[0m\n\u001b[1;32m    139\u001b[0m url \u001b[39m=\u001b[39m urljoin(GACHA_INFO_URL, endpoint)\n\u001b[1;32m    141\u001b[0m r \u001b[39m=\u001b[39m session\u001b[39m.\u001b[39mrequest(method, url, \u001b[39m*\u001b[39m\u001b[39m*\u001b[39mkwargs)\n\u001b[0;32m--> 142\u001b[0m r\u001b[39m.\u001b[39;49mraise_for_status()\n\u001b[1;32m    144\u001b[0m data \u001b[39m=\u001b[39m r\u001b[39m.\u001b[39mjson()\n\u001b[1;32m    145\u001b[0m \u001b[39mif\u001b[39;00m data[\u001b[39m\"\u001b[39m\u001b[39mretcode\u001b[39m\u001b[39m\"\u001b[39m] \u001b[39m==\u001b[39m \u001b[39m0\u001b[39m:\n",
      "File \u001b[0;32m~/Intro2algo/algo/lib/python3.10/site-packages/requests/models.py:1021\u001b[0m, in \u001b[0;36mResponse.raise_for_status\u001b[0;34m(self)\u001b[0m\n\u001b[1;32m   1016\u001b[0m     http_error_msg \u001b[39m=\u001b[39m (\n\u001b[1;32m   1017\u001b[0m         \u001b[39mf\u001b[39m\u001b[39m\"\u001b[39m\u001b[39m{\u001b[39;00m\u001b[39mself\u001b[39m\u001b[39m.\u001b[39mstatus_code\u001b[39m}\u001b[39;00m\u001b[39m Server Error: \u001b[39m\u001b[39m{\u001b[39;00mreason\u001b[39m}\u001b[39;00m\u001b[39m for url: \u001b[39m\u001b[39m{\u001b[39;00m\u001b[39mself\u001b[39m\u001b[39m.\u001b[39murl\u001b[39m}\u001b[39;00m\u001b[39m\"\u001b[39m\n\u001b[1;32m   1018\u001b[0m     )\n\u001b[1;32m   1020\u001b[0m \u001b[39mif\u001b[39;00m http_error_msg:\n\u001b[0;32m-> 1021\u001b[0m     \u001b[39mraise\u001b[39;00m HTTPError(http_error_msg, response\u001b[39m=\u001b[39m\u001b[39mself\u001b[39m)\n",
      "\u001b[0;31mHTTPError\u001b[0m: 404 Client Error: Not Found for url: https://hk4e-api-os.hoyoverse.com/ysulog/api/getPrimogemLog?authkey_ver=1&lang=en&authkey=477Jy8Io31Ks5GfYsgpzmKIbnayv%2BO1zmwErUco%2F4y9WfQ6tJuzaswY6KK1%2B1a%2Bxn%2B%2BbXtSwiJsj4U3Yar4S7elnclXj8UbpEE0%2FK6FF3j%2BnxAAUctlXjmejdoGGLXSvvxYN2lAKaO0PYZfOp0rU%2FmIG4GKHIoEf7IgqdFnTLaE9dJCkTFDUriKzUcgkvDOzXQubvPZJzO59gny3%2BFtWXIt2RBYFKbgAvorjj7Gg7NIBIVCzJWg1JT6o6%2BrYlNck9ZAz3BYZCpREgvPeAJ2l4p4pAB4oLH%2BZKhGY0xBEDKHRXzTHx%2FR3jQGuMR2QitwuKaDH9mW%2FANTyK4MGWwlbdKMwjF6WCdi3R9kywWJudGwi%2F0P4u9hMM8xgGgg1otmSeg%2BXrnzOE%2BBUIGAUudpwgbkJxALt%2BTVqjbyq0K%2FBspfxYewbMavfhUjtg5ojt9C3cBOg1XJxYoYAxHU1Nsnj8mo3TX2rZoyAwtk1qFaezrTASFdePohQywYwcohVp%2Fz7ZUxxAIfCoqDo73%2FSOqG22MAZmjT5kvzXqtNpQ7yS%2BR2YDG95jujjL5Hgyu6m4pKQTLvRRhgMn0N2xByepH77N%2BN8bWJDW35zETcgdVZxHg2aZaWThAuuYdd96C76sk4ZanpG2WlQPNbgScllvvdu3qW8ooMMX%2FJbvmjjrunl5JRf7lTk0jdgVSximKT3qNwAcQ0w4%2BYmnUXbDdIQ9GhK6Ezkhf1fk7YIzlFk4g19CBddbaEUvIF6WpP6G20jlA1K9rFwrLs39CD69R8fJ1R3pufUNugUfuZbqf5vEvR7KFPQ52fB%2BHcvhU39odbeeR0GKzjd8w3ituFRYeAJh6IqkOZSAG%2BIWjvNfaTdD6WJKyoQrJp%2BmWCn0AR4n98nKjPQ7mME44zUSkVqgXPtK8aoEWYjqXXmxw4%2F71%2BGDLnK18LraXODc1w74aJJMSSIHtmX06%2FC0V2ECl3zJKM%2FUgbn9NlHL%2F9oQh3RVVOq%2FjVybWC6qgJBWumvlgzaWmhK1Mbc&sign_type=2&size=20&end_id=0"
     ]
    }
   ],
   "source": []
  },
  {
   "cell_type": "code",
   "execution_count": null,
   "metadata": {},
   "outputs": [],
   "source": []
  }
 ],
 "metadata": {
  "kernelspec": {
   "display_name": "algo",
   "language": "python",
   "name": "python3"
  },
  "language_info": {
   "codemirror_mode": {
    "name": "ipython",
    "version": 3
   },
   "file_extension": ".py",
   "mimetype": "text/x-python",
   "name": "python",
   "nbconvert_exporter": "python",
   "pygments_lexer": "ipython3",
   "version": "3.10.12"
  },
  "orig_nbformat": 4
 },
 "nbformat": 4,
 "nbformat_minor": 2
}
