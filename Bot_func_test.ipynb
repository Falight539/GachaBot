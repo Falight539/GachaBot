{
 "cells": [
  {
   "cell_type": "code",
   "execution_count": 1,
   "metadata": {},
   "outputs": [],
   "source": [
    "from datetime import datetime\n",
    "import Gacha"
   ]
  },
  {
   "cell_type": "code",
   "execution_count": 2,
   "metadata": {},
   "outputs": [],
   "source": [
    "# uid 849906722\n",
    "# ltud 189088067\n",
    "# ltoken E4J5dEMG5CgdaIZxPXvXkB1uUNBSTrPj4CYBw99Y\n",
    "\n",
    "me = Gacha.planer(\n",
    "    uid=849906722,\n",
    "    ltuid=189088067, \n",
    "    ltoken=r\"3ZyH2yXlZvc9buGpDfGsrer6fIFDvTkKx2VwyiTC\",\n",
    "    authURL=r'https://webstatic-sea.hoyoverse.com/genshin/event/e20190909gacha-v2/index.html?win_mode=fullscreen&authkey_ver=1&sign_type=2&auth_appid=webview_gacha&init_type=301&gacha_id=568398dfa3d87056a8d1a5cf6296f3a5f652e5d0&timestamp=1695772432&lang=en&device_type=pc&game_version=OSRELWin4.1.0_R18501173_S18438893_D18497406&region=os_asia&authkey=p%2FXUbcAQ26DxHL4WwZ8weA48RYFQYfkAdfQYcNuwS0rfPN4qbnT3JsbneLvhnLjtwCmGXPzoGuon8TTsiSkoBlYEtNiX7xo9u1wkR3RDacH0vq5LbG%2FxvGkmHNM31VRs8mecZAuurWbqPYb1T1kRz8br%2Bl%2FqGqaRYitXPPJe3xUYKHK%2FuW8xSWpMkduwhU%2F0m87A4u7U90befOqcR9u6uxBL8Yq4zpT84a%2BCWIj1p%2FfG07GbVjvTC53F5XZFVPxbqU2umINwzo5CDocsM8U3ysaSCYvDmv%2F5RUXMfOYH5jQHz6OtM2s9Da%2FuyEobkMIr%2F37rU1x0CPshMpzJAvI5Ldi7YADt05HjMa9j6mzVWRPf9k3DSj%2FLtFYkeTp2MLvwF1Koog8UQZlUKWXbInKe1MJr6p434Sdy7nYVo6qW7rRR9Yyj%2FxFsd2lqhrCbijOuT%2BrH%2F%2BnRj7pikkgEA3w78y5ZRmBkuxTRYGEaOZc2iv7P6r3J8Q1DufPksmRJ9Sm0o5X7bOcu4i4tEjOHXX5lNbAojAq0SznsnfTlAlkYC%2FI4q5GyIwpYE30zhSeJrjLQKfS%2BF1UmoEVz31yZ7SNq6GBZp2734bZ9sWuBMmUEQ%2B0o3drCQxxff5b4QXxKZ1Ke1QzPisPc69JfSFTGnKmhvw2T7vAOCGIf8oyDAaKiXQ2ZRbWGezohdkFIpTLEESo9Ek9WxiumHm5UEecuEpVEQUaYIY83nNz7eDI8PoJCzNk3Ds7mMshzjf0gGCdk%2F%2BJ6eNT1frERBSkGmdBzli1hWbOUCmc6uroIb8C42odJ%2Fe%2BDLSjdsHIkswgILHYtuQhD9xQvx7KDKHIJk1hTtoCgSNmuRELCxj%2FNM4DFZFLhbfp5cBnZyHFa3MdA0WK5Y7CDtkA5h36XM9%2BMeX6MBS5ISqaosjver9JKigUpvhXwBeKrYmPwmKvB0gAY%2FYsOZMm0jbxvsBlkwjSrEU1Js4956wkI6OwHk2wGFdRLClJBPUqBIMJguZwpJt1SAW1PM8VF3bKkN2lbYnDQWRMtjf0f08uxs%2FrGD3xxL6rH1iKrdCoFFI%2BKWtw8vDl5qjLxz2ikh8viNexdppivoNw2MeFu1Qa1niw2ThnYMCz3z%2BlNj3LdGHDvCDBKCIpQq0YhBDNPaWCyLjzuentTo4uB6NpZTlP1F7lrSLtF4OZCtNXeMs7dfWxHeRG%2BoHPET3GHolNqPZzQ7eX3swvrC8xNmkmc%2FKqsn0SYxx1F5AGmUdi8QVgIgKfhkEDYpzFKBfmDh8DrFscZNUygHddgcNbM%2FEA%2FyL%2Bnb2obSFcu1JSGYkcSwavttsAvREDxLX4OAv70fM4y6RQddZdbI1vUEuEPGuYDlg%3D%3D&game_biz='    \n",
    "    )"
   ]
  },
  {
   "cell_type": "code",
   "execution_count": 3,
   "metadata": {},
   "outputs": [
    {
     "data": {
      "text/plain": [
       "{'achievements': 518,\n",
       " 'active_days': 388,\n",
       " 'characters': 36,\n",
       " 'spiral_abyss': '8-3',\n",
       " 'anemoculi': 66,\n",
       " 'geoculi': 131,\n",
       " 'electroculi': 85,\n",
       " 'common_chests': 817,\n",
       " 'exquisite_chests': 848,\n",
       " 'precious_chests': 241,\n",
       " 'luxurious_chests': 88,\n",
       " 'unlocked_waypoints': 331,\n",
       " 'unlocked_domains': 43}"
      ]
     },
     "execution_count": 3,
     "metadata": {},
     "output_type": "execute_result"
    }
   ],
   "source": [
    "me.see_stat()"
   ]
  },
  {
   "cell_type": "code",
   "execution_count": 4,
   "metadata": {},
   "outputs": [
    {
     "name": "stdout",
     "output_type": "stream",
     "text": [
      "{'type': 'Weapon', 'name': 'Emerald Orb', 'rarity': 3, 'time': '2023-10-01 12:13:08', 'id': 1696133160000565122, 'banner': 'Character Event Wish', 'banner_type': 301, 'uid': 849906722}\n",
      "{'type': 'Weapon', 'name': 'Thrilling Tales of Dragon Slayers', 'rarity': 3, 'time': '2023-10-01 12:13:08', 'id': 1696133160000565022, 'banner': 'Character Event Wish', 'banner_type': 301, 'uid': 849906722}\n",
      "{'type': 'Weapon', 'name': 'Favonius Codex', 'rarity': 4, 'time': '2023-10-01 12:13:08', 'id': 1696133160000564922, 'banner': 'Character Event Wish', 'banner_type': 301, 'uid': 849906722}\n",
      "{'type': 'Weapon', 'name': 'Thrilling Tales of Dragon Slayers', 'rarity': 3, 'time': '2023-10-01 12:13:08', 'id': 1696133160000564822, 'banner': 'Character Event Wish', 'banner_type': 301, 'uid': 849906722}\n",
      "{'type': 'Weapon', 'name': 'Black Tassel', 'rarity': 3, 'time': '2023-10-01 12:13:08', 'id': 1696133160000564722, 'banner': 'Character Event Wish', 'banner_type': 301, 'uid': 849906722}\n",
      "{'type': 'Weapon', 'name': 'Emerald Orb', 'rarity': 3, 'time': '2023-10-01 12:13:08', 'id': 1696133160000564622, 'banner': 'Character Event Wish', 'banner_type': 301, 'uid': 849906722}\n",
      "{'type': 'Weapon', 'name': 'Debate Club', 'rarity': 3, 'time': '2023-10-01 12:13:08', 'id': 1696133160000564522, 'banner': 'Character Event Wish', 'banner_type': 301, 'uid': 849906722}\n",
      "{'type': 'Weapon', 'name': 'Emerald Orb', 'rarity': 3, 'time': '2023-10-01 12:13:08', 'id': 1696133160000564422, 'banner': 'Character Event Wish', 'banner_type': 301, 'uid': 849906722}\n",
      "{'type': 'Weapon', 'name': 'Bloodtainted Greatsword', 'rarity': 3, 'time': '2023-10-01 12:13:08', 'id': 1696133160000564322, 'banner': 'Character Event Wish', 'banner_type': 301, 'uid': 849906722}\n",
      "{'type': 'Weapon', 'name': 'Harbinger of Dawn', 'rarity': 3, 'time': '2023-10-01 12:13:08', 'id': 1696133160000564222, 'banner': 'Character Event Wish', 'banner_type': 301, 'uid': 849906722}\n",
      "{'type': 'Weapon', 'name': 'Black Tassel', 'rarity': 3, 'time': '2023-10-01 11:48:59', 'id': 1696129560002146922, 'banner': 'Character Event Wish', 'banner_type': 301, 'uid': 849906722}\n",
      "{'type': 'Weapon', 'name': 'Debate Club', 'rarity': 3, 'time': '2023-10-01 11:48:59', 'id': 1696129560002146822, 'banner': 'Character Event Wish', 'banner_type': 301, 'uid': 849906722}\n",
      "{'type': 'Character', 'name': 'Diona', 'rarity': 4, 'time': '2023-10-01 11:48:59', 'id': 1696129560002146722, 'banner': 'Character Event Wish', 'banner_type': 301, 'uid': 849906722}\n",
      "{'type': 'Weapon', 'name': 'Cool Steel', 'rarity': 3, 'time': '2023-10-01 11:48:59', 'id': 1696129560002146622, 'banner': 'Character Event Wish', 'banner_type': 301, 'uid': 849906722}\n",
      "{'type': 'Weapon', 'name': 'Slingshot', 'rarity': 3, 'time': '2023-10-01 11:48:59', 'id': 1696129560002146522, 'banner': 'Character Event Wish', 'banner_type': 301, 'uid': 849906722}\n",
      "{'type': 'Weapon', 'name': 'Harbinger of Dawn', 'rarity': 3, 'time': '2023-10-01 11:48:59', 'id': 1696129560002146422, 'banner': 'Character Event Wish', 'banner_type': 301, 'uid': 849906722}\n",
      "{'type': 'Weapon', 'name': 'Raven Bow', 'rarity': 3, 'time': '2023-10-01 11:48:59', 'id': 1696129560002146322, 'banner': 'Character Event Wish', 'banner_type': 301, 'uid': 849906722}\n",
      "{'type': 'Weapon', 'name': 'Skyrider Sword', 'rarity': 3, 'time': '2023-10-01 11:48:59', 'id': 1696129560002146222, 'banner': 'Character Event Wish', 'banner_type': 301, 'uid': 849906722}\n",
      "{'type': 'Weapon', 'name': 'Skyrider Sword', 'rarity': 3, 'time': '2023-10-01 11:48:59', 'id': 1696129560002146122, 'banner': 'Character Event Wish', 'banner_type': 301, 'uid': 849906722}\n",
      "{'type': 'Character', 'name': 'Collei', 'rarity': 4, 'time': '2023-10-01 11:48:59', 'id': 1696129560002146022, 'banner': 'Character Event Wish', 'banner_type': 301, 'uid': 849906722}\n",
      "{'type': 'Weapon', 'name': 'Harbinger of Dawn', 'rarity': 3, 'time': '2023-09-28 01:45:24', 'id': 1695834360001332622, 'banner': 'Character Event Wish', 'banner_type': 301, 'uid': 849906722}\n",
      "{'type': 'Weapon', 'name': 'Bloodtainted Greatsword', 'rarity': 3, 'time': '2023-09-27 18:34:54', 'id': 1695809160003149222, 'banner': 'Character Event Wish', 'banner_type': 301, 'uid': 849906722}\n",
      "{'type': 'Character', 'name': 'Tighnari', 'rarity': 5, 'time': '2023-09-27 11:29:47', 'id': 1695783960007218322, 'banner': 'Character Event Wish', 'banner_type': 301, 'uid': 849906722}\n",
      "{'type': 'Weapon', 'name': 'Slingshot', 'rarity': 3, 'time': '2023-09-27 11:29:40', 'id': 1695783960007192422, 'banner': 'Character Event Wish', 'banner_type': 301, 'uid': 849906722}\n",
      "{'type': 'Weapon', 'name': 'Skyrider Sword', 'rarity': 3, 'time': '2023-09-27 11:29:31', 'id': 1695783960007167422, 'banner': 'Character Event Wish', 'banner_type': 301, 'uid': 849906722}\n",
      "{'type': 'Weapon', 'name': 'Ferrous Shadow', 'rarity': 3, 'time': '2023-09-27 11:29:24', 'id': 1695783960007142922, 'banner': 'Character Event Wish', 'banner_type': 301, 'uid': 849906722}\n",
      "{'type': 'Weapon', 'name': 'Harbinger of Dawn', 'rarity': 3, 'time': '2023-09-27 11:29:17', 'id': 1695783960007119322, 'banner': 'Character Event Wish', 'banner_type': 301, 'uid': 849906722}\n",
      "{'type': 'Weapon', 'name': 'Debate Club', 'rarity': 3, 'time': '2023-09-27 10:54:27', 'id': 1695780360008856622, 'banner': 'Character Event Wish', 'banner_type': 301, 'uid': 849906722}\n",
      "{'type': 'Character', 'name': 'Xingqiu', 'rarity': 4, 'time': '2023-09-27 10:54:27', 'id': 1695780360008856522, 'banner': 'Character Event Wish', 'banner_type': 301, 'uid': 849906722}\n",
      "{'type': 'Weapon', 'name': 'Debate Club', 'rarity': 3, 'time': '2023-09-27 10:54:27', 'id': 1695780360008856422, 'banner': 'Character Event Wish', 'banner_type': 301, 'uid': 849906722}\n",
      "{'type': 'Weapon', 'name': 'Rainslasher', 'rarity': 4, 'time': '2023-09-27 10:54:27', 'id': 1695780360008856322, 'banner': 'Character Event Wish', 'banner_type': 301, 'uid': 849906722}\n",
      "{'type': 'Character', 'name': 'Neuvillette', 'rarity': 5, 'time': '2023-09-27 10:54:27', 'id': 1695780360008856222, 'banner': 'Character Event Wish', 'banner_type': 301, 'uid': 849906722}\n",
      "{'type': 'Weapon', 'name': 'Skyrider Sword', 'rarity': 3, 'time': '2023-09-27 10:54:27', 'id': 1695780360008856122, 'banner': 'Character Event Wish', 'banner_type': 301, 'uid': 849906722}\n",
      "{'type': 'Weapon', 'name': 'Emerald Orb', 'rarity': 3, 'time': '2023-09-27 10:54:27', 'id': 1695780360008856022, 'banner': 'Character Event Wish', 'banner_type': 301, 'uid': 849906722}\n",
      "{'type': 'Weapon', 'name': 'Black Tassel', 'rarity': 3, 'time': '2023-09-27 10:54:27', 'id': 1695780360008855922, 'banner': 'Character Event Wish', 'banner_type': 301, 'uid': 849906722}\n",
      "{'type': 'Weapon', 'name': 'Emerald Orb', 'rarity': 3, 'time': '2023-09-27 10:54:27', 'id': 1695780360008855822, 'banner': 'Character Event Wish', 'banner_type': 301, 'uid': 849906722}\n",
      "{'type': 'Weapon', 'name': 'Bloodtainted Greatsword', 'rarity': 3, 'time': '2023-09-27 10:54:27', 'id': 1695780360008855722, 'banner': 'Character Event Wish', 'banner_type': 301, 'uid': 849906722}\n",
      "{'type': 'Weapon', 'name': 'Magic Guide', 'rarity': 3, 'time': '2023-09-27 10:54:12', 'id': 1695780360008796422, 'banner': 'Character Event Wish', 'banner_type': 301, 'uid': 849906722}\n",
      "{'type': 'Weapon', 'name': 'Skyrider Sword', 'rarity': 3, 'time': '2023-09-27 10:54:12', 'id': 1695780360008796322, 'banner': 'Character Event Wish', 'banner_type': 301, 'uid': 849906722}\n",
      "{'type': 'Weapon', 'name': 'Harbinger of Dawn', 'rarity': 3, 'time': '2023-09-27 10:54:12', 'id': 1695780360008796222, 'banner': 'Character Event Wish', 'banner_type': 301, 'uid': 849906722}\n",
      "{'type': 'Weapon', 'name': 'Raven Bow', 'rarity': 3, 'time': '2023-09-27 10:54:12', 'id': 1695780360008796122, 'banner': 'Character Event Wish', 'banner_type': 301, 'uid': 849906722}\n",
      "{'type': 'Character', 'name': 'Fischl', 'rarity': 4, 'time': '2023-09-27 10:54:12', 'id': 1695780360008796022, 'banner': 'Character Event Wish', 'banner_type': 301, 'uid': 849906722}\n",
      "{'type': 'Weapon', 'name': 'Thrilling Tales of Dragon Slayers', 'rarity': 3, 'time': '2023-09-27 10:54:12', 'id': 1695780360008795922, 'banner': 'Character Event Wish', 'banner_type': 301, 'uid': 849906722}\n",
      "{'type': 'Character', 'name': 'Xingqiu', 'rarity': 4, 'time': '2023-09-27 10:54:12', 'id': 1695780360008795822, 'banner': 'Character Event Wish', 'banner_type': 301, 'uid': 849906722}\n",
      "{'type': 'Weapon', 'name': 'Debate Club', 'rarity': 3, 'time': '2023-09-27 10:54:12', 'id': 1695780360008795722, 'banner': 'Character Event Wish', 'banner_type': 301, 'uid': 849906722}\n",
      "{'type': 'Weapon', 'name': \"Sharpshooter's Oath\", 'rarity': 3, 'time': '2023-09-27 10:54:12', 'id': 1695780360008795622, 'banner': 'Character Event Wish', 'banner_type': 301, 'uid': 849906722}\n",
      "{'type': 'Weapon', 'name': 'Harbinger of Dawn', 'rarity': 3, 'time': '2023-09-27 10:54:12', 'id': 1695780360008795522, 'banner': 'Character Event Wish', 'banner_type': 301, 'uid': 849906722}\n",
      "{'type': 'Weapon', 'name': 'Thrilling Tales of Dragon Slayers', 'rarity': 3, 'time': '2023-09-27 10:53:56', 'id': 1695780360008731022, 'banner': 'Character Event Wish', 'banner_type': 301, 'uid': 849906722}\n",
      "{'type': 'Weapon', 'name': 'Magic Guide', 'rarity': 3, 'time': '2023-09-27 10:53:56', 'id': 1695780360008730922, 'banner': 'Character Event Wish', 'banner_type': 301, 'uid': 849906722}\n",
      "{'type': 'Weapon', 'name': 'Debate Club', 'rarity': 3, 'time': '2023-09-27 10:53:56', 'id': 1695780360008730822, 'banner': 'Character Event Wish', 'banner_type': 301, 'uid': 849906722}\n",
      "{'type': 'Weapon', 'name': \"Sharpshooter's Oath\", 'rarity': 3, 'time': '2023-09-27 10:53:56', 'id': 1695780360008730722, 'banner': 'Character Event Wish', 'banner_type': 301, 'uid': 849906722}\n",
      "{'type': 'Weapon', 'name': 'Bloodtainted Greatsword', 'rarity': 3, 'time': '2023-09-27 10:53:56', 'id': 1695780360008730622, 'banner': 'Character Event Wish', 'banner_type': 301, 'uid': 849906722}\n",
      "{'type': 'Weapon', 'name': 'Thrilling Tales of Dragon Slayers', 'rarity': 3, 'time': '2023-09-27 10:53:56', 'id': 1695780360008730522, 'banner': 'Character Event Wish', 'banner_type': 301, 'uid': 849906722}\n",
      "{'type': 'Weapon', 'name': 'Favonius Codex', 'rarity': 4, 'time': '2023-09-27 10:53:56', 'id': 1695780360008730422, 'banner': 'Character Event Wish', 'banner_type': 301, 'uid': 849906722}\n",
      "{'type': 'Weapon', 'name': 'Skyrider Sword', 'rarity': 3, 'time': '2023-09-27 10:53:56', 'id': 1695780360008730322, 'banner': 'Character Event Wish', 'banner_type': 301, 'uid': 849906722}\n",
      "{'type': 'Weapon', 'name': 'Raven Bow', 'rarity': 3, 'time': '2023-09-27 10:53:56', 'id': 1695780360008730222, 'banner': 'Character Event Wish', 'banner_type': 301, 'uid': 849906722}\n",
      "{'type': 'Weapon', 'name': 'Slingshot', 'rarity': 3, 'time': '2023-09-27 10:53:56', 'id': 1695780360008730122, 'banner': 'Character Event Wish', 'banner_type': 301, 'uid': 849906722}\n",
      "{'type': 'Weapon', 'name': 'Ferrous Shadow', 'rarity': 3, 'time': '2023-09-27 10:53:44', 'id': 1695780360008680022, 'banner': 'Character Event Wish', 'banner_type': 301, 'uid': 849906722}\n",
      "{'type': 'Weapon', 'name': 'Raven Bow', 'rarity': 3, 'time': '2023-09-27 10:53:44', 'id': 1695780360008679922, 'banner': 'Character Event Wish', 'banner_type': 301, 'uid': 849906722}\n",
      "{'type': 'Weapon', 'name': 'Magic Guide', 'rarity': 3, 'time': '2023-09-27 10:53:44', 'id': 1695780360008679822, 'banner': 'Character Event Wish', 'banner_type': 301, 'uid': 849906722}\n",
      "{'type': 'Weapon', 'name': 'Ferrous Shadow', 'rarity': 3, 'time': '2023-09-27 10:53:44', 'id': 1695780360008679722, 'banner': 'Character Event Wish', 'banner_type': 301, 'uid': 849906722}\n",
      "{'type': 'Weapon', 'name': 'Magic Guide', 'rarity': 3, 'time': '2023-09-27 10:53:44', 'id': 1695780360008679622, 'banner': 'Character Event Wish', 'banner_type': 301, 'uid': 849906722}\n",
      "{'type': 'Character', 'name': 'Diona', 'rarity': 4, 'time': '2023-09-27 10:53:44', 'id': 1695780360008679522, 'banner': 'Character Event Wish', 'banner_type': 301, 'uid': 849906722}\n",
      "{'type': 'Weapon', 'name': 'Slingshot', 'rarity': 3, 'time': '2023-09-27 10:53:44', 'id': 1695780360008679422, 'banner': 'Character Event Wish', 'banner_type': 301, 'uid': 849906722}\n",
      "{'type': 'Weapon', 'name': 'Emerald Orb', 'rarity': 3, 'time': '2023-09-27 10:53:44', 'id': 1695780360008679322, 'banner': 'Character Event Wish', 'banner_type': 301, 'uid': 849906722}\n",
      "{'type': 'Weapon', 'name': 'Raven Bow', 'rarity': 3, 'time': '2023-09-27 10:53:44', 'id': 1695780360008679222, 'banner': 'Character Event Wish', 'banner_type': 301, 'uid': 849906722}\n",
      "{'type': 'Weapon', 'name': 'Raven Bow', 'rarity': 3, 'time': '2023-09-27 10:53:44', 'id': 1695780360008679122, 'banner': 'Character Event Wish', 'banner_type': 301, 'uid': 849906722}\n",
      "{'type': 'Weapon', 'name': 'Debate Club', 'rarity': 3, 'time': '2023-09-27 10:53:34', 'id': 1695780360008634322, 'banner': 'Character Event Wish', 'banner_type': 301, 'uid': 849906722}\n",
      "{'type': 'Weapon', 'name': 'Emerald Orb', 'rarity': 3, 'time': '2023-09-27 10:53:34', 'id': 1695780360008634222, 'banner': 'Character Event Wish', 'banner_type': 301, 'uid': 849906722}\n",
      "{'type': 'Weapon', 'name': 'Slingshot', 'rarity': 3, 'time': '2023-09-27 10:53:34', 'id': 1695780360008634122, 'banner': 'Character Event Wish', 'banner_type': 301, 'uid': 849906722}\n",
      "{'type': 'Weapon', 'name': 'Magic Guide', 'rarity': 3, 'time': '2023-09-27 10:53:34', 'id': 1695780360008634022, 'banner': 'Character Event Wish', 'banner_type': 301, 'uid': 849906722}\n",
      "{'type': 'Character', 'name': 'Xingqiu', 'rarity': 4, 'time': '2023-09-27 10:53:34', 'id': 1695780360008633922, 'banner': 'Character Event Wish', 'banner_type': 301, 'uid': 849906722}\n",
      "{'type': 'Weapon', 'name': 'Black Tassel', 'rarity': 3, 'time': '2023-09-27 10:53:34', 'id': 1695780360008633822, 'banner': 'Character Event Wish', 'banner_type': 301, 'uid': 849906722}\n",
      "{'type': 'Weapon', 'name': 'Debate Club', 'rarity': 3, 'time': '2023-09-27 10:53:34', 'id': 1695780360008633722, 'banner': 'Character Event Wish', 'banner_type': 301, 'uid': 849906722}\n",
      "{'type': 'Weapon', 'name': 'Magic Guide', 'rarity': 3, 'time': '2023-09-27 10:53:34', 'id': 1695780360008633622, 'banner': 'Character Event Wish', 'banner_type': 301, 'uid': 849906722}\n",
      "{'type': 'Weapon', 'name': 'Raven Bow', 'rarity': 3, 'time': '2023-09-27 10:53:34', 'id': 1695780360008633522, 'banner': 'Character Event Wish', 'banner_type': 301, 'uid': 849906722}\n",
      "{'type': 'Weapon', 'name': 'Raven Bow', 'rarity': 3, 'time': '2023-09-27 10:53:34', 'id': 1695780360008633422, 'banner': 'Character Event Wish', 'banner_type': 301, 'uid': 849906722}\n",
      "{'type': 'Weapon', 'name': \"Sharpshooter's Oath\", 'rarity': 3, 'time': '2023-09-27 10:53:27', 'id': 1695780360008597822, 'banner': 'Character Event Wish', 'banner_type': 301, 'uid': 849906722}\n",
      "{'type': 'Weapon', 'name': \"Sharpshooter's Oath\", 'rarity': 3, 'time': '2023-09-27 10:53:27', 'id': 1695780360008597722, 'banner': 'Character Event Wish', 'banner_type': 301, 'uid': 849906722}\n",
      "{'type': 'Weapon', 'name': 'Black Tassel', 'rarity': 3, 'time': '2023-09-27 10:53:27', 'id': 1695780360008597622, 'banner': 'Character Event Wish', 'banner_type': 301, 'uid': 849906722}\n"
     ]
    },
    {
     "data": {
      "text/plain": [
       "48"
      ]
     },
     "execution_count": 4,
     "metadata": {},
     "output_type": "execute_result"
    }
   ],
   "source": [
    "me.wished()"
   ]
  },
  {
   "cell_type": "code",
   "execution_count": null,
   "metadata": {},
   "outputs": [],
   "source": []
  },
  {
   "cell_type": "code",
   "execution_count": null,
   "metadata": {},
   "outputs": [],
   "source": []
  }
 ],
 "metadata": {
  "kernelspec": {
   "display_name": "algo",
   "language": "python",
   "name": "python3"
  },
  "language_info": {
   "codemirror_mode": {
    "name": "ipython",
    "version": 3
   },
   "file_extension": ".py",
   "mimetype": "text/x-python",
   "name": "python",
   "nbconvert_exporter": "python",
   "pygments_lexer": "ipython3",
   "version": "3.10.12"
  },
  "orig_nbformat": 4
 },
 "nbformat": 4,
 "nbformat_minor": 2
}
